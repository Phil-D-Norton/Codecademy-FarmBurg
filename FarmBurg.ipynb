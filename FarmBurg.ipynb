{
 "cells": [
  {
   "cell_type": "markdown",
   "metadata": {},
   "source": [
    "#### Name: Phillip Norton\n",
    "\n",
    "# Project: Hypothesis Testing for Microtransactions\n",
    "\n",
    "###### Brian is a Product Manager at **FarmBurg**, a company that makes a farming simulation social network game. In the **FarmBurg** game, you can plow, plant, and harvest different crops.\n",
    "\n",
    "###### Today, you will be acting as Brian's data analyst for an A/B Test that he has been conducting.\n",
    "\n",
    "-------------------------------------------------------------------------------------------------------------------------------\n",
    "\n",
    "### Part 1: Testing for Significant Difference\n",
    "\n",
    "###### Start by importing the following modules that you'll need for this project:\n",
    "\n",
    "* 'pandas' as 'pd'"
   ]
  },
  {
   "cell_type": "code",
   "execution_count": 528,
   "metadata": {},
   "outputs": [],
   "source": [
    "import pandas as pd #imports pandas library and sets the alias pd\n",
    "import numpy as np  #imports numpy library and sets the alias np"
   ]
  },
  {
   "cell_type": "markdown",
   "metadata": {},
   "source": [
    "###### Brian tells you that he ran an A/B test with three different groups: A, B, and C. YOu're kind of busy today, so you don't ask too many questions about the differences between A, B, and C. Maybe they were shown three different versions of an ad. Who cares?\n",
    "\n",
    "###### (**HINT**: you will care later)\n",
    "\n",
    "Brian gives you a CSV of results called `clicks.csv`. It has the following columns:\n",
    "\n",
    "* `user_id`: a unique id for each vistor to the **FarmBurg** site\n",
    "* `ab_test_group`: either A, B, or C depending on which group the vistor was assigned to\n",
    "* `click_day`: only filled in *if* the user clicked on a link to purchase\n",
    "\n",
    " Load `clicks.csv` into the variable df."
   ]
  },
  {
   "cell_type": "code",
   "execution_count": 529,
   "metadata": {},
   "outputs": [
    {
     "name": "stdout",
     "output_type": "stream",
     "text": [
      "                                   user_id group  click_day\n",
      "0     8e27bf9a-5b6e-41ed-801a-a59979c0ca98     A        NaN\n",
      "1     eb89e6f0-e682-4f79-99b1-161cc1c096f1     A        NaN\n",
      "2     7119106a-7a95-417b-8c4c-092c12ee5ef7     A        NaN\n",
      "3     e53781ff-ff7a-4fcd-af1a-adba02b2b954     A        NaN\n",
      "4     02d48cf1-1ae6-40b3-9d8b-8208884a0904     A   Saturday\n",
      "5     5a3ca2d6-25d5-4909-8f07-519f71ee55e8     A        NaN\n",
      "6     6b929341-1336-4c34-965b-92e368ab160b     A        NaN\n",
      "7     90b0a07b-e20e-4e0a-872e-5cc303c5676b     A        NaN\n",
      "8     4b16c922-b2ab-48a8-885c-713ebf0ae159     A        NaN\n",
      "9     5eb5fc03-fbda-4149-b909-4f5fbc6b152f     A        NaN\n",
      "10    389ff492-4635-4535-8e42-685f771fccb1     A        NaN\n",
      "11    1d25885b-56c7-4fdd-bee8-6348c1386bf0     A   Thursday\n",
      "12    4546807b-8211-4e7b-94cf-4f9c879e284b     A        NaN\n",
      "13    c447f7f4-a419-41c6-af31-0a17f7943816     A        NaN\n",
      "14    e75754d9-9342-4f1f-84e1-75c340ef78b2     A        NaN\n",
      "15    0d38042c-2296-4526-b21c-6b00805688d4     A     Friday\n",
      "16    a54eeb29-1406-4032-bc2c-7d8166e4641a     A        NaN\n",
      "17    b54a48e0-ae75-44db-8421-d40cfa5cc3a7     A        NaN\n",
      "18    1a2ad0c4-3cb0-4346-9f77-6e42082a7433     A  Wednesday\n",
      "19    512ab2bb-0c2e-46a1-9f34-40b3d2ecee1a     A        NaN\n",
      "20    43d00167-768d-4488-ba32-650c8ab05a06     A        NaN\n",
      "21    0d28dceb-c377-40f1-a238-a0ef1c525dd4     A    Tuesday\n",
      "22    e66d263e-6746-4489-8ef6-8ab32c09a8c6     A        NaN\n",
      "23    5a795c56-8047-4546-a00c-2fa5fae5474e     A        NaN\n",
      "24    1cd795a0-c6a3-489d-ba09-7ad9b6d90a98     A   Thursday\n",
      "25    8e65d46a-a61d-465c-b2a7-c534bec6219b     A        NaN\n",
      "26    d2d00ec5-48ac-4813-9b03-cc6da1354bd7     A        NaN\n",
      "27    02f09387-0949-489e-bc49-508e4ae5a0be     A     Monday\n",
      "28    e395b3fb-46af-4e1c-b8d4-a1c4f490b46e     A        NaN\n",
      "29    c9499054-f8ac-4973-869f-14704694a1a9     A        NaN\n",
      "...                                    ...   ...        ...\n",
      "4968  563462e3-f22c-453d-a645-b1cf37ac0316     C        NaN\n",
      "4969  25d3b1df-8580-4533-947d-66ba9cba20c0     C        NaN\n",
      "4970  ebd8e192-0a13-49df-a4c4-b9c482f48e6f     C        NaN\n",
      "4971  945d3c4a-b624-45a7-b5de-81a7088d6b74     C        NaN\n",
      "4972  a5073a0b-8251-4f45-92fb-97c2bc9a053f     C        NaN\n",
      "4973  2c786780-b7e2-45df-9a0c-1938c484f328     C        NaN\n",
      "4974  cf624881-75f8-438f-88a8-43ba537bfe3b     C        NaN\n",
      "4975  9a16d458-e196-4d8c-8060-bc79d7336553     C        NaN\n",
      "4976  b9b920ac-9a88-47c6-8882-00cca3ee40b1     C        NaN\n",
      "4977  b2eaae1d-2505-47b9-a24a-23f6c63f93a6     C        NaN\n",
      "4978  71b32b6b-cb84-42ae-8062-ca0722bcfd0a     C        NaN\n",
      "4979  bce930f6-e65c-4c5e-98b8-6fc78ddf3e87     C        NaN\n",
      "4980  3df3ebd6-14ca-4132-98a6-68b226d3c2e5     C        NaN\n",
      "4981  1d673f80-c1c5-46e0-bc52-5dd8a133147d     C        NaN\n",
      "4982  7da81a79-5a41-4e98-92ba-f00637b58bcc     C        NaN\n",
      "4983  bd00f045-7f1c-4b56-8515-d574b6958898     C        NaN\n",
      "4984  4970134b-b71d-4e0f-87ff-7dc2827183ed     C        NaN\n",
      "4985  f1cf55e6-3baa-49ea-8465-1d713e707e03     C        NaN\n",
      "4986  b8c43823-b5a6-445d-879f-990f2cf647f5     C        NaN\n",
      "4987  8ef57a7e-2f04-4b04-9082-f16b929cabec     C        NaN\n",
      "4988  ff2fb6ed-e14e-430f-bc0e-4d0fb15c142c     C        NaN\n",
      "4989  0277cd1b-fa11-498a-94e5-ce8184eafc63     C     Monday\n",
      "4990  be6899b2-4d90-4145-8803-66ed2cd3a758     C        NaN\n",
      "4991  67e5ac93-6039-4fc6-9417-1af997e9ade7     C        NaN\n",
      "4992  68335145-ad33-4dec-bde8-b3fd4511d76c     C        NaN\n",
      "4993  1f6fd5aa-f664-4e7a-aa97-112572085691     C        NaN\n",
      "4994  ad76e16a-b28f-4eab-9271-cb505e50fbcf     C        NaN\n",
      "4995  c9254ed4-e47f-4c31-b541-67afb66ce273     C        NaN\n",
      "4996  e734362b-42b9-4ec5-81e9-3b7ab326478e     C        NaN\n",
      "4997  36b4f7d6-a150-4db0-a34b-82afe767b584     C        NaN\n",
      "\n",
      "[4998 rows x 3 columns]\n"
     ]
    }
   ],
   "source": [
    "# import csv \n",
    "import csv\n",
    "dframe = pd.read_csv(r'C:\\Users\\Phillip\\Downloads\\clicks.csv')\n",
    "print(dframe)"
   ]
  },
  {
   "cell_type": "markdown",
   "metadata": {},
   "source": [
    "Define a new column called `is_purchase` which is `Purchase` if `click_day` is not `None` and `No Purchase` if `click_day` is `None`. This will tell us if each visitor clicked on the Purchase link."
   ]
  },
  {
   "cell_type": "code",
   "execution_count": 530,
   "metadata": {},
   "outputs": [
    {
     "name": "stdout",
     "output_type": "stream",
     "text": [
      "                                   user_id group  click_day  is_purchase\n",
      "0     8e27bf9a-5b6e-41ed-801a-a59979c0ca98     A        NaN  No Purchase\n",
      "1     eb89e6f0-e682-4f79-99b1-161cc1c096f1     A        NaN  No Purchase\n",
      "2     7119106a-7a95-417b-8c4c-092c12ee5ef7     A        NaN  No Purchase\n",
      "3     e53781ff-ff7a-4fcd-af1a-adba02b2b954     A        NaN  No Purchase\n",
      "4     02d48cf1-1ae6-40b3-9d8b-8208884a0904     A   Saturday     Purchase\n",
      "5     5a3ca2d6-25d5-4909-8f07-519f71ee55e8     A        NaN  No Purchase\n",
      "6     6b929341-1336-4c34-965b-92e368ab160b     A        NaN  No Purchase\n",
      "7     90b0a07b-e20e-4e0a-872e-5cc303c5676b     A        NaN  No Purchase\n",
      "8     4b16c922-b2ab-48a8-885c-713ebf0ae159     A        NaN  No Purchase\n",
      "9     5eb5fc03-fbda-4149-b909-4f5fbc6b152f     A        NaN  No Purchase\n",
      "10    389ff492-4635-4535-8e42-685f771fccb1     A        NaN  No Purchase\n",
      "11    1d25885b-56c7-4fdd-bee8-6348c1386bf0     A   Thursday     Purchase\n",
      "12    4546807b-8211-4e7b-94cf-4f9c879e284b     A        NaN  No Purchase\n",
      "13    c447f7f4-a419-41c6-af31-0a17f7943816     A        NaN  No Purchase\n",
      "14    e75754d9-9342-4f1f-84e1-75c340ef78b2     A        NaN  No Purchase\n",
      "15    0d38042c-2296-4526-b21c-6b00805688d4     A     Friday     Purchase\n",
      "16    a54eeb29-1406-4032-bc2c-7d8166e4641a     A        NaN  No Purchase\n",
      "17    b54a48e0-ae75-44db-8421-d40cfa5cc3a7     A        NaN  No Purchase\n",
      "18    1a2ad0c4-3cb0-4346-9f77-6e42082a7433     A  Wednesday     Purchase\n",
      "19    512ab2bb-0c2e-46a1-9f34-40b3d2ecee1a     A        NaN  No Purchase\n",
      "20    43d00167-768d-4488-ba32-650c8ab05a06     A        NaN  No Purchase\n",
      "21    0d28dceb-c377-40f1-a238-a0ef1c525dd4     A    Tuesday     Purchase\n",
      "22    e66d263e-6746-4489-8ef6-8ab32c09a8c6     A        NaN  No Purchase\n",
      "23    5a795c56-8047-4546-a00c-2fa5fae5474e     A        NaN  No Purchase\n",
      "24    1cd795a0-c6a3-489d-ba09-7ad9b6d90a98     A   Thursday     Purchase\n",
      "25    8e65d46a-a61d-465c-b2a7-c534bec6219b     A        NaN  No Purchase\n",
      "26    d2d00ec5-48ac-4813-9b03-cc6da1354bd7     A        NaN  No Purchase\n",
      "27    02f09387-0949-489e-bc49-508e4ae5a0be     A     Monday     Purchase\n",
      "28    e395b3fb-46af-4e1c-b8d4-a1c4f490b46e     A        NaN  No Purchase\n",
      "29    c9499054-f8ac-4973-869f-14704694a1a9     A        NaN  No Purchase\n",
      "...                                    ...   ...        ...          ...\n",
      "4968  563462e3-f22c-453d-a645-b1cf37ac0316     C        NaN  No Purchase\n",
      "4969  25d3b1df-8580-4533-947d-66ba9cba20c0     C        NaN  No Purchase\n",
      "4970  ebd8e192-0a13-49df-a4c4-b9c482f48e6f     C        NaN  No Purchase\n",
      "4971  945d3c4a-b624-45a7-b5de-81a7088d6b74     C        NaN  No Purchase\n",
      "4972  a5073a0b-8251-4f45-92fb-97c2bc9a053f     C        NaN  No Purchase\n",
      "4973  2c786780-b7e2-45df-9a0c-1938c484f328     C        NaN  No Purchase\n",
      "4974  cf624881-75f8-438f-88a8-43ba537bfe3b     C        NaN  No Purchase\n",
      "4975  9a16d458-e196-4d8c-8060-bc79d7336553     C        NaN  No Purchase\n",
      "4976  b9b920ac-9a88-47c6-8882-00cca3ee40b1     C        NaN  No Purchase\n",
      "4977  b2eaae1d-2505-47b9-a24a-23f6c63f93a6     C        NaN  No Purchase\n",
      "4978  71b32b6b-cb84-42ae-8062-ca0722bcfd0a     C        NaN  No Purchase\n",
      "4979  bce930f6-e65c-4c5e-98b8-6fc78ddf3e87     C        NaN  No Purchase\n",
      "4980  3df3ebd6-14ca-4132-98a6-68b226d3c2e5     C        NaN  No Purchase\n",
      "4981  1d673f80-c1c5-46e0-bc52-5dd8a133147d     C        NaN  No Purchase\n",
      "4982  7da81a79-5a41-4e98-92ba-f00637b58bcc     C        NaN  No Purchase\n",
      "4983  bd00f045-7f1c-4b56-8515-d574b6958898     C        NaN  No Purchase\n",
      "4984  4970134b-b71d-4e0f-87ff-7dc2827183ed     C        NaN  No Purchase\n",
      "4985  f1cf55e6-3baa-49ea-8465-1d713e707e03     C        NaN  No Purchase\n",
      "4986  b8c43823-b5a6-445d-879f-990f2cf647f5     C        NaN  No Purchase\n",
      "4987  8ef57a7e-2f04-4b04-9082-f16b929cabec     C        NaN  No Purchase\n",
      "4988  ff2fb6ed-e14e-430f-bc0e-4d0fb15c142c     C        NaN  No Purchase\n",
      "4989  0277cd1b-fa11-498a-94e5-ce8184eafc63     C     Monday     Purchase\n",
      "4990  be6899b2-4d90-4145-8803-66ed2cd3a758     C        NaN  No Purchase\n",
      "4991  67e5ac93-6039-4fc6-9417-1af997e9ade7     C        NaN  No Purchase\n",
      "4992  68335145-ad33-4dec-bde8-b3fd4511d76c     C        NaN  No Purchase\n",
      "4993  1f6fd5aa-f664-4e7a-aa97-112572085691     C        NaN  No Purchase\n",
      "4994  ad76e16a-b28f-4eab-9271-cb505e50fbcf     C        NaN  No Purchase\n",
      "4995  c9254ed4-e47f-4c31-b541-67afb66ce273     C        NaN  No Purchase\n",
      "4996  e734362b-42b9-4ec5-81e9-3b7ab326478e     C        NaN  No Purchase\n",
      "4997  36b4f7d6-a150-4db0-a34b-82afe767b584     C        NaN  No Purchase\n",
      "\n",
      "[4998 rows x 4 columns]\n"
     ]
    }
   ],
   "source": [
    "# using .where to look through 'click_day' and find where it is null\n",
    "\n",
    "dframe['is_purchase'] = np.where(dframe['click_day'].isnull(), 'No Purchase', 'Purchase')\n",
    "print(dframe)\n",
    "              "
   ]
  },
  {
   "cell_type": "markdown",
   "metadata": {},
   "source": [
    "We want to count the number of users who made a purchase from each group. use `groupby` to count the number of `Purchase` and `No Purchase` from each `group`. Save your answer to the varibale `purchase_counts`.\n",
    "\n",
    "**Hint**: Group by `group` and `is_purchase` and the function `count` on the column `user_id`."
   ]
  },
  {
   "cell_type": "code",
   "execution_count": 531,
   "metadata": {},
   "outputs": [
    {
     "name": "stdout",
     "output_type": "stream",
     "text": [
      "group  is_purchase\n",
      "A      No Purchase    1350\n",
      "       Purchase        316\n",
      "B      No Purchase    1483\n",
      "       Purchase        183\n",
      "C      No Purchase    1583\n",
      "       Purchase         83\n",
      "Name: user_id, dtype: int64\n"
     ]
    }
   ],
   "source": [
    "# using .groupby to group rows where they are in the same group, then where packages were purchased \n",
    "purchase_counts = dframe.groupby(['group', 'is_purchase']).user_id.count()\n",
    "print(purchase_counts)"
   ]
  },
  {
   "cell_type": "markdown",
   "metadata": {},
   "source": [
    "This data is *categorical* and there are *more than 2 conditions*, so we'll want to use a chi-squared test to see if there is a significant difference between the three conditions. \n",
    "\n",
    "Start by filling in the contingency table below with the correct values:\n",
    "\n",
    "\n",
    "`contingency = [[groupA_purchases, groupA_not_purchases],\n",
    "               [groupB_purchases, groupB_not_purchases],\n",
    "               [groupC_purchases, groupC_not_purchases]]`"
   ]
  },
  {
   "cell_type": "code",
   "execution_count": 532,
   "metadata": {},
   "outputs": [],
   "source": [
    "contingency = [[316, 1350],\n",
    "               [183,1483],\n",
    "               [83, 1583]]"
   ]
  },
  {
   "cell_type": "markdown",
   "metadata": {},
   "source": [
    "Now import the function `chi1_contingency` from `scipy.stats` and perform the chi-squared test.\n",
    "\n",
    "Recall that the `p-value` is the second output of `chi2_contingency`."
   ]
  },
  {
   "cell_type": "code",
   "execution_count": 533,
   "metadata": {},
   "outputs": [],
   "source": [
    "# import 'chi2_contigency' from 'scipy.stats'\n",
    "from scipy.stats import chi2_contingency"
   ]
  },
  {
   "cell_type": "code",
   "execution_count": 534,
   "metadata": {},
   "outputs": [
    {
     "name": "stdout",
     "output_type": "stream",
     "text": [
      "2.4126213546684264e-35\n"
     ]
    }
   ],
   "source": [
    "\"\"\"\"because our p-value is the second output of the chi2_contingency we add a \n",
    "\"[1]\" after \"(chi2_contingency(contingency)\" so that our outut is our p-value.\n",
    "remember python starts at 0! \"\"\"\n",
    "\n",
    "print (chi2_contingency(contingency)[1])\n"
   ]
  },
  {
   "cell_type": "markdown",
   "metadata": {},
   "source": [
    "Great! It looks like a significantly greater portion of users from Group A made a purchase.\n",
    "\n"
   ]
  },
  {
   "cell_type": "markdown",
   "metadata": {},
   "source": [
    "### Part 2: Testing for Exceeding a Goal\n",
    "\n",
    "Your day is a little less busy than you expected, so you decide to ask Brian about his test.\n",
    "\n",
    "**You**: Hey Brian! What was that test you were running anyway?\n",
    "\n",
    "**Brian**: It was awesome! We are trying to get users to purchase a small FarmBurg upgrade package. It's called a microtransaction. We're not sure how much to charge for it, so we tested three different price points: \\$0.99, \\$1.99, and \\$4.99. It looks like significantly more people bought the upgrade package for \\$0.99, so I guess that's what we'll charge.\n",
    "\n",
    "**You**: Oh no! I should have asked you this before we did that chi-squared test. I don't think that this was the right test at all. It's true that more people wanted purchase the upgrade at \\$0.99; you probably expected that. What we really want to know is if each price point allows us to make enough money that we can exceed some target goal. Brian, how much do you think it cost to build this feature?\n",
    "\n",
    "**Brian**: Hmm. I guess that we need to generate a minimum of $1000 per week in order to justify this project.\n",
    "\n",
    "**You**: We have some work to do!\n",
    "\n",
    "How many visitors came to the site this week?\n",
    "\n",
    "**Hint**: Look at the length of df."
   ]
  },
  {
   "cell_type": "code",
   "execution_count": 535,
   "metadata": {},
   "outputs": [
    {
     "name": "stdout",
     "output_type": "stream",
     "text": [
      "4998\n"
     ]
    }
   ],
   "source": [
    "#this will show us how many visitors came to the site based on user_id\n",
    "number_of_visitors = len(dframe['user_id'])\n",
    "print (number_of_visitors)"
   ]
  },
  {
   "cell_type": "markdown",
   "metadata": {},
   "source": [
    "Let's assume that this is how many visitors we generally get each week. Given that, calculate the percent of visitors who would need to purchase the upgrade package at each price point `($0.99, $1.99, $4.99)` \n",
    "in order to generate `$1000` per week."
   ]
  },
  {
   "cell_type": "code",
   "execution_count": 536,
   "metadata": {},
   "outputs": [
    {
     "name": "stdout",
     "output_type": "stream",
     "text": [
      "Number of purchases needed to reach weekly goal: 1010.1010101010102\n",
      "Percentage of visitors who would need to purchase an upgrade pack: 0.20210104243717691\n"
     ]
    }
   ],
   "source": [
    "# We are calculating how many users would need to purchase an upgrade pack at $.99 and what percentage of vistors that is\n",
    "# to meet our weekly goal.\n",
    "week_goal = 1000\n",
    "ninety_nine_cents = week_goal/.99\n",
    "percentage_a = ninety_nine_cents/number_of_visitors\n",
    "print(\"Number of purchases needed to reach weekly goal:\", ninety_nine_cents) \n",
    "print(\"Percentage of visitors who would need to purchase an upgrade pack:\", percentage_a)"
   ]
  },
  {
   "cell_type": "code",
   "execution_count": 537,
   "metadata": {},
   "outputs": [
    {
     "name": "stdout",
     "output_type": "stream",
     "text": [
      "Number of purchases needed to reach weekly goal: 502.51256281407035\n",
      "Percentage of visitors who would need to purchase an upgrade pack: 0.10054272965467594\n"
     ]
    }
   ],
   "source": [
    "# We are calculating how many users would need to purchase an upgrade pack at $1.99 and what percentage of vistors that is\n",
    "# to meet our weekly goal.\n",
    "week_goal = 1000\n",
    "one_dollar_ninety_nine_cents = week_goal/1.99\n",
    "percentage_b = one_dollar_ninety_nine_cents/number_of_visitors\n",
    "print(\"Number of purchases needed to reach weekly goal:\", one_dollar_ninety_nine_cents) \n",
    "print(\"Percentage of visitors who would need to purchase an upgrade pack:\", percentage_b)"
   ]
  },
  {
   "cell_type": "code",
   "execution_count": 538,
   "metadata": {},
   "outputs": [
    {
     "name": "stdout",
     "output_type": "stream",
     "text": [
      "Number of purchases needed to reach weekly goal: 200.40080160320642\n",
      "Percentage of visitors who would need to purchase an upgrade pack: 0.040096198800161346\n"
     ]
    }
   ],
   "source": [
    "# We are calculating how many users would need to purchase an upgrade pack at $4.99 and what percentage of vistors that is\n",
    "# to meet our weekly goal.\n",
    "week_goal = 1000\n",
    "four_dollars_ninety_nine_cents = week_goal/4.99\n",
    "percentage_c = four_dollars_ninety_nine_cents/number_of_visitors\n",
    "print(\"Number of purchases needed to reach weekly goal:\", four_dollars_ninety_nine_cents) \n",
    "print(\"Percentage of visitors who would need to purchase an upgrade pack:\", percentage_c)"
   ]
  },
  {
   "cell_type": "markdown",
   "metadata": {},
   "source": [
    "Note that you need a smaller percentage of purchases for higher price points.\n",
    "\n",
    "Now, for each group, perform a binomial test using `binom_test` from `scipy.stats`.\n",
    "* x will be the number of purchases for that group\n",
    "* n will be the total number of visitors assigned to that group\n",
    "* p will be the target percent of purchases for that price point (calculated above)\n",
    "\n",
    "Recall that:\n",
    "* Group A is the `$0.99` price point\n",
    "* Group B is the `$1.99` price point\n",
    "* Group C is the `$4.99` price point"
   ]
  },
  {
   "cell_type": "code",
   "execution_count": 539,
   "metadata": {},
   "outputs": [],
   "source": [
    "# import binomial test\n",
    "from scipy.stats import binom_test"
   ]
  },
  {
   "cell_type": "code",
   "execution_count": 540,
   "metadata": {},
   "outputs": [
    {
     "name": "stdout",
     "output_type": "stream",
     "text": [
      "Group A binomial value: 0.2111287299402726\n"
     ]
    }
   ],
   "source": [
    "# Group A binomial test also use value for percentage from earlier\n",
    "x = 316\n",
    "n = x + 1350\n",
    "p = binom_test(x,n, percentage_a)\n",
    "print(\"Group A binomial value:\", p)"
   ]
  },
  {
   "cell_type": "code",
   "execution_count": 541,
   "metadata": {},
   "outputs": [
    {
     "name": "stdout",
     "output_type": "stream",
     "text": [
      "Group B binomial value: 0.20660209246555486\n"
     ]
    }
   ],
   "source": [
    "# Group B binomial test also use value for percentage from earlier\n",
    "x = 183\n",
    "n = x + 1483\n",
    "p = binom_test(x,n, percentage_b)\n",
    "print(\"Group B binomial value:\", p)"
   ]
  },
  {
   "cell_type": "code",
   "execution_count": 542,
   "metadata": {},
   "outputs": [
    {
     "name": "stdout",
     "output_type": "stream",
     "text": [
      "Group C binomial value: 0.045623672477172125\n"
     ]
    }
   ],
   "source": [
    "# Group C binomial test also use value for percentage from earlier\n",
    "x = 83\n",
    "n = x + 1583\n",
    "p = binom_test(x,n, percentage_c)\n",
    "print(\"Group C binomial value:\", p)"
   ]
  },
  {
   "cell_type": "markdown",
   "metadata": {},
   "source": [
    "If any of the groups passed the binomial test with `p<0.05`, then we can be confident that enough people will buy the upgrade package at that price point to justify the feature. \n",
    "\n",
    "Which price point should Brian go with? Did this suprise you?\n",
    "\n",
    "Brian should charge `$4.99` for his upgrade package. This was certainly suprising as it seems the least amount of people were buying his package at this cost. With only 83 visitors actually paying `$4.99`, Brian is still short almost `$600` towards his weekly goal."
   ]
  }
 ],
 "metadata": {
  "kernelspec": {
   "display_name": "Python 3",
   "language": "python",
   "name": "python3"
  },
  "language_info": {
   "codemirror_mode": {
    "name": "ipython",
    "version": 3
   },
   "file_extension": ".py",
   "mimetype": "text/x-python",
   "name": "python",
   "nbconvert_exporter": "python",
   "pygments_lexer": "ipython3",
   "version": "3.6.5"
  }
 },
 "nbformat": 4,
 "nbformat_minor": 2
}
